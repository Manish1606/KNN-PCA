{
  "nbformat": 4,
  "nbformat_minor": 0,
  "metadata": {
    "colab": {
      "provenance": []
    },
    "kernelspec": {
      "name": "python3",
      "display_name": "Python 3"
    },
    "language_info": {
      "name": "python"
    }
  },
  "cells": [
    {
      "cell_type": "markdown",
      "source": [
        "##### KNN & PCA #####"
      ],
      "metadata": {
        "id": "dVFtgpilKP3n"
      }
    },
    {
      "cell_type": "markdown",
      "source": [
        "Q1.What is K-Nearest Neighbors (KNN) and how does it work?\n",
        "==>K-Nearest Neighbors (KNN) is a simple and versatile machine learning algorithm used for both classification and regression. It works by finding the \"k\" nearest data points to a new, unclassified data point and making a prediction based on the majority class or average value of those neighbors.\n",
        "1.Finding similar data points:\n",
        "       It identifies the \"k\" nearest neighbors to the new data point based on distance.\n",
        "2.Using the majority or average:\n",
        "       For classification, it assigns the new data point to the most common class among the neighbors; for regression, it predicts the value based on the average or weighted average of the neighbors.\n",
        "3.Making predictions:\n",
        "       The algorithm uses the information from the nearest neighbors to predict the class or value of the new data point.\n",
        "\n",
        "Q2.What is the difference between KNN Classification and KNN Regression?\n",
        "==>KNN (K-Nearest Neighbors) can be used for both classification and  regression, but the fundamental difference lies in the type of output it predicts. In classification, KNN predicts discrete class labels (like \"cat\" or \"dog\"), while in regression, it predicts continuous numerical values (like house price or temperature).\n",
        "KNN Classification:\n",
        "Goal: Assign an input data point to a specific class or category.\n",
        "Output: A discrete label or class (e.g., 0 or 1, \"yes\" or \"no\").\n",
        "Prediction: The algorithm identifies the k-nearest neighbors in the training data and assigns the most frequent class label among them to the new input point.\n",
        "Example: Classifying images as \"cat\" or \"dog\".\n",
        "KNN Regression:\n",
        "Goal: Predict a continuous numerical value for an input data point.\n",
        "Output: A continuous numerical value (e.g., a price, a temperature, a rating).\n",
        "Prediction: The algorithm identifies the k-nearest neighbors and calculates the average (or another aggregation) of their output values to predict the value for the new input point.\n",
        "Example: Predicting the price of a house based on its features.\n",
        "\n",
        "Q3.What is the role of the distance metric in KNN?\n",
        "==>In KNN, the distance metric is crucial for determining the similarity between data points and finding the k-nearest neighbors. It measures the dissimilarity or distance between two data points in a feature space, influencing the classification or regression accuracy. The chosen distance metric dictates how the algorithm identifies the closest neighbors, ultimately impacting the model's performance.\n",
        "\n",
        "Q4.What is the Curse of Dimensionality in KNN?\n",
        "==>The curse of dimensionality refers to various phenomena that arise when analyzing and organizing data in high-dimensional spaces that do not occur in low-dimensional settings such as the three-dimensional physical space of everyday experience.\n",
        "\n",
        "Q5.How can we choose the best value of K in KNN?\n",
        "==>Choosing the right value of K in k-Nearest Neighbors (KNN) involves a process called hyperparameter tuning, and there's no one-size-fits-all answer. Generally, you'll want to find a K value that balances the need to capture important patterns in the data with the desire to avoid overfitting or underfitting. A common approach is to try different K values and evaluate the model's performance using techniques like cross-validation.\n",
        "\n",
        "Q6.What are KD Tree and Ball Tree in KNN?\n",
        "==>In K-Nearest Neighbors (KNN) classification, KD Trees and Ball Trees are data structures that help efficiently find the nearest neighbors of a data point in a high-dimensional space. KD Trees divide the space along axes, while Ball Trees use hyperspheres to group points, offering advantages in high-dimensional or non-uniform data.\n",
        "KD Tree:\n",
        "A K-Dimensional tree organizes data points in a multi-dimensional space by recursively partitioning the space along the data axes.\n",
        "Ball Tree:\n",
        "A Ball Tree also organizes data points in a tree structure but uses hyperspheres to enclose them.\n",
        "\n",
        "Q7.When should you use KD Tree vs. Ball Tree?\n",
        "==>In general, KD-trees are preferred for lower-dimensional data, while Ball trees are better for higher-dimensional data or when the data exhibits local structure according to Cornell Computer Science Department. KD-trees are simpler and faster to construct in low dimensions, but their performance degrades significantly in high dimensions due to the \"curse of dimensionality.\" Ball trees, which partition data into nested hyperspheres, are more robust in high dimensions and can handle non-uniform data distributions more effectively.\n",
        "\n",
        "Q8.What are the disadvantages of KNN?\n",
        "==>KNN, despite its simplicity, has several disadvantages. These include computational inefficiency, sensitivity to parameter choices, storage demands, and struggles with imbalanced data. Additionally, it can be negatively impacted by the \"curse of dimensionality,\" which makes it less effective in high-dimensional spaces.\n",
        "\n",
        "Q9.How does feature scaling affect KNN?\n",
        "==>Feature scaling, which normalizes or standardizes the range of features in a dataset, significantly improves the performance of KNN (k-Nearest Neighbors) algorithms. By scaling features, you ensure that no single feature dominates the distance calculations, leading to more accurate and unbiased results.\n",
        "\n",
        "Q10.What is PCA (Principal Component Analysis)?\n",
        "==>Having too many features in data can cause problems like overfitting (good on training data but poor on new data), slower computation, and lower accuracy. This is called the curse of dimensionality, where more features exponentially increase the data needed for reliable results.\n",
        "\n",
        "Q11.How does PCA work?\n",
        "==>Principal Component Analysis(PCA) | Guide to PCAPCA (Principal Component Analysis) is a statistical method that transforms a dataset into a new coordinate system, where the axes are ordered by the amount of variance they explain. It essentially identifies the directions (principal components) in the data where the variance is greatest, allowing for dimensionality reduction by focusing on the most important information.\n",
        "\n",
        "Q12.What is the geometric intuition behind PCA?\n",
        "==>PCA finds the directions (principal components) along which data varies the most, effectively capturing the most important information and reducing the dimensionality of the data. Imagine a cloud of data points. PCA identifies the line (in 2D) or plane (in 3D) that best captures the overall spread of those points. This line or plane represents the principal component(s) that retain the most variance.\n",
        "\n",
        "Q13.What is the difference between Feature Selection and Feature Extraction?\n",
        "==>Unlike feature selection, which selects and retains the most significant attributes, Feature Extraction actually transforms the attributes. The transformed attributes, or features, are linear combinations of the original attributes. The Feature Extraction process results in a much smaller and richer set of attributes.\n",
        "\n",
        "Q14.What are Eigenvalues and Eigenvectors in PCA?\n",
        "==>In Principal Component Analysis (PCA), eigenvectors represent the directions of maximum variance in the data, while eigenvalues indicate the amount of variance explained by each eigenvector. Essentially, eigenvectors define the principal components (the new axes in a lower-dimensional space), and eigenvalues quantify how much variance each principal component captures.\n",
        "\n",
        "Q15.How do you decide the number of components to keep in PCA?\n",
        "==>A widely applied approach is to decide on the number of principal components by examining a scree plot. By eyeballing the scree plot, and looking for a point at which the proportion of variance explained by each subsequent principal component drops off. This is often referred to as an elbow in the scree plot.\n",
        "\n",
        "Q16.Can PCA be used for classification?\n",
        "==>While Principal Component Analysis (PCA) isn't directly a classification algorithm, it can be used to preprocess data for classification tasks. PCA helps reduce the dimensionality of data, which can make it easier and faster for some classifiers to learn patterns.\n",
        "\n",
        "Q17.What are the limitations of PCA?\n",
        "==>PCA has several limitations, including difficulty interpreting principal components, sensitivity to data scaling and outliers, loss of information during dimensionality reduction, and its assumption of linear relationships. It can also struggle with non-Gaussian data and missing values, and its computational complexity increases with large datasets.\n",
        "\n",
        "Q18.How do KNN and PCA complement each other?\n",
        "==>KNN and PCA complement each other by addressing distinct challenges in machine learning. PCA reduces data dimensionality, making it easier for KNN to process data and find nearest neighbors efficiently. By removing redundant information, PCA also helps KNN avoid overfitting and improve classification accuracy.\n",
        "\n",
        "Q19.How does KNN handle missing values in a dataset?\n",
        "==>We will discuss three primary methods:\n",
        "1.Deleting Rows with Missing Values. The simplest and easiest approach to handle missing values is to remove the rows or columns containing missing values in the dataset. ...\n",
        "2.Imputation Techniques. ...\n",
        "3.Forward Fill and Backward Fill. ...\n",
        "4.Replacing with Arbitrary Value.\n",
        "\n",
        "Q20.What are the key differences between PCA and Linear Discriminant Analysis (LDA)?\n",
        "==>PCA (Principal Component Analysis) and LDA (Linear Discriminant Analysis) are both dimensionality reduction techniques, but they differ in their objectives and how they are used. PCA is unsupervised and aims to capture the maximum variance in the data, while LDA is supervised and focuses on maximizing class separation.\n",
        "#PCA\n",
        "finds new, orthogonal axes (principal components) that capture the most variance in the dataset, regardless of class labels. It's useful for general data exploration and dimensionality reduction when class information is not available or not relevant.\n",
        "#LDA\n",
        "finds a linear combination of features that best separates the classes. It's used when you want to reduce the dimensionality of the data while preserving the ability to classify it into different groups."
      ],
      "metadata": {
        "id": "lH_F4gK5KSBO"
      }
    },
    {
      "cell_type": "code",
      "source": [
        "#### Practical #####"
      ],
      "metadata": {
        "id": "4CMPWl3gOgek"
      },
      "execution_count": null,
      "outputs": []
    },
    {
      "cell_type": "code",
      "source": [
        "#Q1.Train a KNN Classifier on the Iris dataset and print model accuracy.\n",
        "import pandas as pd\n",
        "from sklearn.datasets import load_iris\n",
        "from sklearn.model_selection import train_test_split\n",
        "from sklearn.neighbors import KNeighborsClassifier\n",
        "from sklearn.metrics import accuracy_score\n",
        "\n",
        "# 1. Load the Iris dataset\n",
        "iris = load_iris()\n",
        "X = iris.data\n",
        "y = iris.target\n",
        "\n",
        "# 2. Split the data into training and testing sets\n",
        "X_train, X_test, y_train, y_test = train_test_split(X, y, test_size=0.2, random_state=42)\n",
        "\n",
        "# 3. Create a KNN classifier model\n",
        "knn = KNeighborsClassifier(n_neighbors=5)  # You can adjust the number of neighbors (k)\n",
        "\n",
        "# 4. Train the model on the training data\n",
        "knn.fit(X_train, y_train)\n",
        "\n",
        "# 5. Make predictions on the testing data\n",
        "y_pred = knn.predict(X_test)\n",
        "\n",
        "# 6. Calculate and print the accuracy\n",
        "accuracy = accuracy_score(y_test, y_pred)\n",
        "print(f\"Accuracy: {accuracy}\")"
      ],
      "metadata": {
        "colab": {
          "base_uri": "https://localhost:8080/"
        },
        "id": "YEUIphGhOjRT",
        "outputId": "d6849a14-a057-45ac-b33c-9303c28d540f"
      },
      "execution_count": 1,
      "outputs": [
        {
          "output_type": "stream",
          "name": "stdout",
          "text": [
            "Accuracy: 1.0\n"
          ]
        }
      ]
    },
    {
      "cell_type": "code",
      "source": [
        "#Q2.Train a KNN Regressor on a synthetic dataset and evaluate using Mean Squared Error (MSE).\n",
        "import numpy as np\n",
        "from sklearn.neighbors import KNeighborsRegressor\n",
        "from sklearn.metrics import mean_squared_error\n",
        "from sklearn.model_selection import train_test_split\n",
        "# Generate a synthetic dataset with 100 data points\n",
        "# Input feature (X) and target variable (y)\n",
        "X = np.linspace(0, 10, 100).reshape(-1, 1)  # Reshape for scikit-learn\n",
        "y = 2 * X + 1 + 0.5 * np.random.randn(100, 1)  # Add some random noise\n",
        "# Create a KNN Regressor model\n",
        "knn = KNeighborsRegressor(n_neighbors=5)  # You can adjust 'n_neighbors' (k)\n",
        "# Train the model\n",
        "knn.fit(X_train, y_train)\n",
        "# Calculate the MSE\n",
        "mse = mean_squared_error(y_test, y_pred)\n",
        "print(f\"Mean Squared Error: {mse}\")"
      ],
      "metadata": {
        "colab": {
          "base_uri": "https://localhost:8080/"
        },
        "id": "29tdvqGGOwdh",
        "outputId": "67fce486-2fdb-4861-e8cc-b5e90ccbc433"
      },
      "execution_count": 2,
      "outputs": [
        {
          "output_type": "stream",
          "name": "stdout",
          "text": [
            "Mean Squared Error: 0.0\n"
          ]
        }
      ]
    },
    {
      "cell_type": "code",
      "source": [
        "#Q3.Train a KNN Classifier using different distance metrics (Euclidean and Manhattan) and compare accuracy.\n",
        "def knn_predict(training_data, training_labels, test_point, k):\n",
        "    distances = []\n",
        "    for i in range(len(training_data)):\n",
        "        dist = euclidean_distance(test_point, training_data[i])\n",
        "        distances.append((dist, training_labels[i]))\n",
        "    distances.sort(key=lambda x: x[0])\n",
        "    k_nearest_labels = [label for _, label in distances[:k]]\n",
        "    return Counter(k_nearest_labels).most_common(1)[0][0]"
      ],
      "metadata": {
        "id": "Lm5_RnCbPIvf"
      },
      "execution_count": 3,
      "outputs": []
    },
    {
      "cell_type": "code",
      "source": [
        "#Q4.Train a KNN Classifier with different values of K and visualize decision boundaries.\n",
        "import numpy as np\n",
        "import matplotlib.pyplot as plt\n",
        "from sklearn.neighbors import KNeighborsClassifier\n",
        "from sklearn.datasets import make_classification\n",
        "from sklearn.model_selection import train_test_split\n",
        "from matplotlib.colors import ListedColormap\n",
        "\n",
        "# 1. Data Preparation\n",
        "X, y = make_classification(n_samples=200, n_features=2, n_informative=2,\n",
        "                           n_redundant=0, random_state=42, n_classes=2)\n",
        "X_train, X_test, y_train, y_test = train_test_split(X, y, test_size=0.2, random_state=42)\n",
        "\n",
        "# 2. KNN Implementation (function for plotting decision boundaries)\n",
        "def plot_decision_boundary(model, X, y, ax, step_size=0.02):\n",
        "    # ... (Rest of the plotting code)\n",
        "    # ... (Code to plot decision boundary and data points)\n",
        "    # ... (Code to display the plot)\n",
        "    pass\n",
        "\n",
        "# 3. Varying 'k' and plotting\n",
        "k_values = [1, 3, 5, 10]\n",
        "fig, axes = plt.subplots(1, len(k_values), figsize=(15, 5))\n",
        "\n",
        "for i, k in enumerate(k_values):\n",
        "    # Train the KNN model\n",
        "    knn_model = KNeighborsClassifier(n_neighbors=k)\n",
        "    knn_model.fit(X_train, y_train)\n",
        "\n",
        "    # Plot the decision boundary and data points\n",
        "    plot_decision_boundary(knn_model, X, y, axes[i], step_size=0.02)\n",
        "    axes[i].set_title(f\"k = {k}\")\n",
        "\n",
        "plt.tight_layout()\n",
        "plt.show()"
      ],
      "metadata": {
        "colab": {
          "base_uri": "https://localhost:8080/",
          "height": 425
        },
        "id": "ZkfR5alPPjLj",
        "outputId": "ac62d68e-ba32-403e-ee8e-771d399b52b7"
      },
      "execution_count": 4,
      "outputs": [
        {
          "output_type": "display_data",
          "data": {
            "text/plain": [
              "<Figure size 1500x500 with 4 Axes>"
            ],
            "image/png": "[encoded data removed]"
          },
          "metadata": {}
        }
      ]
    },
    {
      "cell_type": "code",
      "source": [
        "#Q5.Apply Feature Scaling before training a KNN model and compare results with unscaled data.\n",
        "\n",
        "from sklearn.preprocessing import StandardScaler\n",
        "from sklearn.neighbors import KNeighborsClassifier\n",
        "from sklearn.model_selection import train_test_split\n",
        "from sklearn.metrics import accuracy_score\n",
        "\n",
        "# Load your data (X: features, y: target)\n",
        "# Note: X and y are available from previous cells in the notebook environment.\n",
        "# Split data into training and testing sets\n",
        "X_train, X_test, y_train, y_test = train_test_split(X, y, test_size=0.2, random_state=42)\n",
        "\n",
        "# 1. Train KNN on unscaled data\n",
        "knn_unscaled = KNeighborsClassifier(n_neighbors=3)\n",
        "knn_unscaled.fit(X_train, y_train)\n",
        "y_pred_unscaled = knn_unscaled.predict(X_test)\n",
        "accuracy_unscaled = accuracy_score(y_test, y_pred_unscaled)\n",
        "print(f\"Accuracy (unscaled): {accuracy_unscaled}\")\n",
        "\n",
        "# 2. Scale the data\n",
        "scaler = StandardScaler()\n",
        "X_train_scaled = scaler.fit_transform(X_train)\n",
        "X_test_scaled = scaler.transform(X_test)\n",
        "\n",
        "# 3. Train KNN on scaled data\n",
        "knn_scaled = KNeighborsClassifier(n_neighbors=3)\n",
        "knn_scaled.fit(X_train_scaled, y_train)\n",
        "y_pred_scaled = knn_scaled.predict(X_test_scaled)\n",
        "accuracy_scaled = accuracy_score(y_test, y_pred_scaled)\n",
        "print(f\"Accuracy (scaled): {accuracy_scaled}\")\n"
      ],
      "metadata": {
        "colab": {
          "base_uri": "https://localhost:8080/"
        },
        "id": "a3bIr9eGPweB",
        "outputId": "f20fab9f-091b-4f28-962a-023854fe7d6a"
      },
      "execution_count": 8,
      "outputs": [
        {
          "output_type": "stream",
          "name": "stdout",
          "text": [
            "Accuracy (unscaled): 0.85\n",
            "Accuracy (scaled): 0.85\n"
          ]
        }
      ]
    },
    {
      "cell_type": "code",
      "source": [
        "#Q6.Train a PCA model on synthetic data and print the explained variance ratio for each component.\n",
        "\n",
        "import numpy as np\n",
        "from sklearn.decomposition import PCA\n",
        "# Generate synthetic data with 10 features and 100 samples\n",
        "data = np.random.rand(100, 10)\n",
        "# Initialize PCA with all components (no dimensionality reduction initially)\n",
        "pca = PCA()\n",
        "\n",
        "# Fit the PCA model to the data\n",
        "pca.fit(data)\n",
        "# Get the explained variance ratio for each component\n",
        "explained_variance_ratio = pca.explained_variance_ratio_\n",
        "\n",
        "# Print the explained variance ratio\n",
        "print(explained_variance_ratio)"
      ],
      "metadata": {
        "colab": {
          "base_uri": "https://localhost:8080/"
        },
        "id": "iISxnIASQr3z",
        "outputId": "b886bf37-1374-4498-ff11-488896469721"
      },
      "execution_count": 9,
      "outputs": [
        {
          "output_type": "stream",
          "name": "stdout",
          "text": [
            "[0.15378378 0.14963605 0.11858355 0.11145572 0.09800827 0.08754491\n",
            " 0.08207046 0.07729096 0.06748612 0.05414017]\n"
          ]
        }
      ]
    },
    {
      "cell_type": "code",
      "source": [
        "#Q7.Apply PCA before training a KNN Classifier and compare accuracy with and without PCA.\n",
        "import pandas as pd\n",
        "import numpy as np\n",
        "\n",
        "# Here we are using inbuilt dataset of scikit learn\n",
        "from sklearn.datasets import load_breast_cancer\n",
        "\n",
        "# instantiating\n",
        "cancer = load_breast_cancer(as_frame=True)\n",
        "# creating dataframe\n",
        "df = cancer.frame\n",
        "\n",
        "# checking shape\n",
        "print('Original Dataframe shape :',df.shape)\n",
        "\n",
        "# Input features\n",
        "X = df[cancer['feature_names']]\n",
        "print('Inputs Dataframe shape   :', X.shape)"
      ],
      "metadata": {
        "colab": {
          "base_uri": "https://localhost:8080/"
        },
        "id": "T7v1nnKlQ87L",
        "outputId": "eb0a2443-43b2-4b4f-f89f-dad4e0308d59"
      },
      "execution_count": 10,
      "outputs": [
        {
          "output_type": "stream",
          "name": "stdout",
          "text": [
            "Original Dataframe shape : (569, 31)\n",
            "Inputs Dataframe shape   : (569, 30)\n"
          ]
        }
      ]
    },
    {
      "cell_type": "code",
      "source": [
        "#Q8.Perform Hyperparameter Tuning on a KNN Classifier using GridSearchCV.\n",
        "from sklearn.neighbors import KNeighborsClassifier\n",
        "from sklearn.model_selection import GridSearchCV, train_test_split\n",
        "from sklearn.metrics import accuracy_score\n",
        "import numpy as np\n",
        "import pandas as pd\n",
        "\n",
        "# Load your dataset (replace with your actual data loading)\n",
        "# The user has already loaded data into variables X and y in previous cells.\n",
        "# Removing the line below which attempts to read a non-existent file.\n",
        "# data = pd.read_csv('your_data.csv')\n",
        "# X = data.drop('target_column', axis=1)\n",
        "# y = data['target_column']\n",
        "\n",
        "# Split the data into training and testing sets\n",
        "# Using the existing X and y variables from the environment\n",
        "X_train, X_test, y_train, y_test = train_test_split(X, y, test_size=0.2, random_state=42)\n",
        "\n",
        "# Define the KNN classifier and parameter grid\n",
        "knn = KNeighborsClassifier()\n",
        "param_grid = {\n",
        "    'n_neighbors': [3, 5, 7, 9, 11],\n",
        "    'weights': ['uniform', 'distance'],\n",
        "    'p': [1, 2],\n",
        "}\n",
        "\n",
        "# Create GridSearchCV object\n",
        "grid_search = GridSearchCV(knn, param_grid, cv=5, scoring='accuracy')\n",
        "\n",
        "# Fit GridSearchCV to the data\n",
        "grid_search.fit(X_train, y_train)\n",
        "\n",
        "# Get the best parameters\n",
        "best_params = grid_search.best_params_\n",
        "print(f\"Best parameters: {best_params}\")\n",
        "\n",
        "# Train KNN with best parameters\n",
        "best_knn = KNeighborsClassifier(**best_params)\n",
        "best_knn.fit(X_train, y_train)\n",
        "\n",
        "# Evaluate the tuned model\n",
        "y_pred = best_knn.predict(X_test)\n",
        "accuracy = accuracy_score(y_test, y_pred)\n",
        "print(f\"Accuracy on test set: {accuracy}\")\n"
      ],
      "metadata": {
        "colab": {
          "base_uri": "https://localhost:8080/",
          "height": 356
        },
        "id": "ShVHKwaWRMMm",
        "outputId": "88dd1033-3af5-4bd0-dbb3-0be0ccd9e9a7"
      },
      "execution_count": 13,
      "outputs": [
        {
          "output_type": "error",
          "ename": "ValueError",
          "evalue": "Found input variables with inconsistent numbers of samples: [569, 200]",
          "traceback": [
            "\u001b[0;31m---------------------------------------------------------------------------\u001b[0m",
            "\u001b[0;31mValueError\u001b[0m                                Traceback (most recent call last)",
            "\u001b[0;32m<ipython-input-13-05ba960fa934>\u001b[0m in \u001b[0;36m<cell line: 0>\u001b[0;34m()\u001b[0m\n\u001b[1;32m     15\u001b[0m \u001b[0;31m# Split the data into training and testing sets\u001b[0m\u001b[0;34m\u001b[0m\u001b[0;34m\u001b[0m\u001b[0m\n\u001b[1;32m     16\u001b[0m \u001b[0;31m# Using the existing X and y variables from the environment\u001b[0m\u001b[0;34m\u001b[0m\u001b[0;34m\u001b[0m\u001b[0m\n\u001b[0;32m---> 17\u001b[0;31m \u001b[0mX_train\u001b[0m\u001b[0;34m,\u001b[0m \u001b[0mX_test\u001b[0m\u001b[0;34m,\u001b[0m \u001b[0my_train\u001b[0m\u001b[0;34m,\u001b[0m \u001b[0my_test\u001b[0m \u001b[0;34m=\u001b[0m \u001b[0mtrain_test_split\u001b[0m\u001b[0;34m(\u001b[0m\u001b[0mX\u001b[0m\u001b[0;34m,\u001b[0m \u001b[0my\u001b[0m\u001b[0;34m,\u001b[0m \u001b[0mtest_size\u001b[0m\u001b[0;34m=\u001b[0m\u001b[0;36m0.2\u001b[0m\u001b[0;34m,\u001b[0m \u001b[0mrandom_state\u001b[0m\u001b[0;34m=\u001b[0m\u001b[0;36m42\u001b[0m\u001b[0;34m)\u001b[0m\u001b[0;34m\u001b[0m\u001b[0;34m\u001b[0m\u001b[0m\n\u001b[0m\u001b[1;32m     18\u001b[0m \u001b[0;34m\u001b[0m\u001b[0m\n\u001b[1;32m     19\u001b[0m \u001b[0;31m# Define the KNN classifier and parameter grid\u001b[0m\u001b[0;34m\u001b[0m\u001b[0;34m\u001b[0m\u001b[0m\n",
            "\u001b[0;32m/usr/local/lib/python3.11/dist-packages/sklearn/utils/_param_validation.py\u001b[0m in \u001b[0;36mwrapper\u001b[0;34m(*args, **kwargs)\u001b[0m\n\u001b[1;32m    214\u001b[0m                     )\n\u001b[1;32m    215\u001b[0m                 ):\n\u001b[0;32m--> 216\u001b[0;31m                     \u001b[0;32mreturn\u001b[0m \u001b[0mfunc\u001b[0m\u001b[0;34m(\u001b[0m\u001b[0;34m*\u001b[0m\u001b[0margs\u001b[0m\u001b[0;34m,\u001b[0m \u001b[0;34m**\u001b[0m\u001b[0mkwargs\u001b[0m\u001b[0;34m)\u001b[0m\u001b[0;34m\u001b[0m\u001b[0;34m\u001b[0m\u001b[0m\n\u001b[0m\u001b[1;32m    217\u001b[0m             \u001b[0;32mexcept\u001b[0m \u001b[0mInvalidParameterError\u001b[0m \u001b[0;32mas\u001b[0m \u001b[0me\u001b[0m\u001b[0;34m:\u001b[0m\u001b[0;34m\u001b[0m\u001b[0;34m\u001b[0m\u001b[0m\n\u001b[1;32m    218\u001b[0m                 \u001b[0;31m# When the function is just a wrapper around an estimator, we allow\u001b[0m\u001b[0;34m\u001b[0m\u001b[0;34m\u001b[0m\u001b[0m\n",
            "\u001b[0;32m/usr/local/lib/python3.11/dist-packages/sklearn/model_selection/_split.py\u001b[0m in \u001b[0;36mtrain_test_split\u001b[0;34m(test_size, train_size, random_state, shuffle, stratify, *arrays)\u001b[0m\n\u001b[1;32m   2846\u001b[0m         \u001b[0;32mraise\u001b[0m \u001b[0mValueError\u001b[0m\u001b[0;34m(\u001b[0m\u001b[0;34m\"At least one array required as input\"\u001b[0m\u001b[0;34m)\u001b[0m\u001b[0;34m\u001b[0m\u001b[0;34m\u001b[0m\u001b[0m\n\u001b[1;32m   2847\u001b[0m \u001b[0;34m\u001b[0m\u001b[0m\n\u001b[0;32m-> 2848\u001b[0;31m     \u001b[0marrays\u001b[0m \u001b[0;34m=\u001b[0m \u001b[0mindexable\u001b[0m\u001b[0;34m(\u001b[0m\u001b[0;34m*\u001b[0m\u001b[0marrays\u001b[0m\u001b[0;34m)\u001b[0m\u001b[0;34m\u001b[0m\u001b[0;34m\u001b[0m\u001b[0m\n\u001b[0m\u001b[1;32m   2849\u001b[0m \u001b[0;34m\u001b[0m\u001b[0m\n\u001b[1;32m   2850\u001b[0m     \u001b[0mn_samples\u001b[0m \u001b[0;34m=\u001b[0m \u001b[0m_num_samples\u001b[0m\u001b[0;34m(\u001b[0m\u001b[0marrays\u001b[0m\u001b[0;34m[\u001b[0m\u001b[0;36m0\u001b[0m\u001b[0;34m]\u001b[0m\u001b[0;34m)\u001b[0m\u001b[0;34m\u001b[0m\u001b[0;34m\u001b[0m\u001b[0m\n",
            "\u001b[0;32m/usr/local/lib/python3.11/dist-packages/sklearn/utils/validation.py\u001b[0m in \u001b[0;36mindexable\u001b[0;34m(*iterables)\u001b[0m\n\u001b[1;32m    530\u001b[0m \u001b[0;34m\u001b[0m\u001b[0m\n\u001b[1;32m    531\u001b[0m     \u001b[0mresult\u001b[0m \u001b[0;34m=\u001b[0m \u001b[0;34m[\u001b[0m\u001b[0m_make_indexable\u001b[0m\u001b[0;34m(\u001b[0m\u001b[0mX\u001b[0m\u001b[0;34m)\u001b[0m \u001b[0;32mfor\u001b[0m \u001b[0mX\u001b[0m \u001b[0;32min\u001b[0m \u001b[0miterables\u001b[0m\u001b[0;34m]\u001b[0m\u001b[0;34m\u001b[0m\u001b[0;34m\u001b[0m\u001b[0m\n\u001b[0;32m--> 532\u001b[0;31m     \u001b[0mcheck_consistent_length\u001b[0m\u001b[0;34m(\u001b[0m\u001b[0;34m*\u001b[0m\u001b[0mresult\u001b[0m\u001b[0;34m)\u001b[0m\u001b[0;34m\u001b[0m\u001b[0;34m\u001b[0m\u001b[0m\n\u001b[0m\u001b[1;32m    533\u001b[0m     \u001b[0;32mreturn\u001b[0m \u001b[0mresult\u001b[0m\u001b[0;34m\u001b[0m\u001b[0;34m\u001b[0m\u001b[0m\n\u001b[1;32m    534\u001b[0m \u001b[0;34m\u001b[0m\u001b[0m\n",
            "\u001b[0;32m/usr/local/lib/python3.11/dist-packages/sklearn/utils/validation.py\u001b[0m in \u001b[0;36mcheck_consistent_length\u001b[0;34m(*arrays)\u001b[0m\n\u001b[1;32m    473\u001b[0m     \u001b[0muniques\u001b[0m \u001b[0;34m=\u001b[0m \u001b[0mnp\u001b[0m\u001b[0;34m.\u001b[0m\u001b[0munique\u001b[0m\u001b[0;34m(\u001b[0m\u001b[0mlengths\u001b[0m\u001b[0;34m)\u001b[0m\u001b[0;34m\u001b[0m\u001b[0;34m\u001b[0m\u001b[0m\n\u001b[1;32m    474\u001b[0m     \u001b[0;32mif\u001b[0m \u001b[0mlen\u001b[0m\u001b[0;34m(\u001b[0m\u001b[0muniques\u001b[0m\u001b[0;34m)\u001b[0m \u001b[0;34m>\u001b[0m \u001b[0;36m1\u001b[0m\u001b[0;34m:\u001b[0m\u001b[0;34m\u001b[0m\u001b[0;34m\u001b[0m\u001b[0m\n\u001b[0;32m--> 475\u001b[0;31m         raise ValueError(\n\u001b[0m\u001b[1;32m    476\u001b[0m             \u001b[0;34m\"Found input variables with inconsistent numbers of samples: %r\"\u001b[0m\u001b[0;34m\u001b[0m\u001b[0;34m\u001b[0m\u001b[0m\n\u001b[1;32m    477\u001b[0m             \u001b[0;34m%\u001b[0m \u001b[0;34m[\u001b[0m\u001b[0mint\u001b[0m\u001b[0;34m(\u001b[0m\u001b[0ml\u001b[0m\u001b[0;34m)\u001b[0m \u001b[0;32mfor\u001b[0m \u001b[0ml\u001b[0m \u001b[0;32min\u001b[0m \u001b[0mlengths\u001b[0m\u001b[0;34m]\u001b[0m\u001b[0;34m\u001b[0m\u001b[0;34m\u001b[0m\u001b[0m\n",
            "\u001b[0;31mValueError\u001b[0m: Found input variables with inconsistent numbers of samples: [569, 200]"
          ]
        }
      ]
    },
    {
      "cell_type": "code",
      "source": [
        "#Q9.Train a KNN Classifier and check the number of misclassified samples.\n",
        "import numpy as np\n",
        "from collections import Counter\n",
        "def euclidean_distance(point1, point2):\n",
        "    return np.sqrt(np.sum((np.array(point1) - np.array(point2))**2))\n",
        "def knn_predict(training_data, training_labels, test_point, k):\n",
        "    distances = []\n",
        "    for i in range(len(training_data)):\n",
        "        dist = euclidean_distance(test_point, training_data[i])\n",
        "        distances.append((dist, training_labels[i]))\n",
        "    distances.sort(key=lambda x: x[0])\n",
        "    k_nearest_labels = [label for _, label in distances[:k]]\n",
        "    return Counter(k_nearest_labels).most_common(1)[0][0]\n",
        "training_data = [[1, 2], [2, 3], [3, 4], [6, 7], [7, 8]]\n",
        "training_labels = ['A', 'A', 'A', 'B', 'B']\n",
        "test_point = [4, 5]\n",
        "k = 3\n",
        "prediction = knn_predict(training_data, training_labels, test_point, k)\n",
        "print(prediction)\n"
      ],
      "metadata": {
        "colab": {
          "base_uri": "https://localhost:8080/"
        },
        "id": "4BAZR48sSINH",
        "outputId": "ca96c088-7291-4d56-b56f-12a6a4cf10ee"
      },
      "execution_count": 14,
      "outputs": [
        {
          "output_type": "stream",
          "name": "stdout",
          "text": [
            "A\n"
          ]
        }
      ]
    },
    {
      "cell_type": "code",
      "source": [
        "#Q10.Train a PCA model and visualize the cumulative explained variance.\n",
        "import pandas as pd\n",
        "import numpy as np\n",
        "from sklearn.preprocessing import StandardScaler\n",
        "from sklearn.decomposition import PCA\n",
        "import matplotlib.pyplot as plt\n",
        "\n",
        "# Load your dataset (replace 'your_data.csv' with your actual file)\n",
        "# Example:\n",
        "# data = pd.read_csv('your_data.csv')\n",
        "\n",
        "# Create a sample dataset for demonstration\n",
        "np.random.seed(0)\n",
        "data = pd.DataFrame(np.random.rand(100, 10), columns=[f'feature_{i}' for i in range(10)])\n",
        "\n",
        "# Standardize the data\n",
        "scaler = StandardScaler()\n",
        "data_scaled = scaler.fit_transform(data)\n",
        "\n",
        "# Apply PCA\n",
        "pca = PCA()\n",
        "pca.fit(data_scaled)\n",
        "\n",
        "# Calculate cumulative explained variance\n",
        "explained_variance_ratio = pca.explained_variance_ratio_\n",
        "cumulative_explained_variance = np.cumsum(explained_variance_ratio)\n",
        "\n",
        "# Plot the cumulative explained variance\n",
        "plt.plot(range(1, len(cumulative_explained_variance) + 1), cumulative_explained_variance, marker='o')\n",
        "plt.xlabel('Number of Components')\n",
        "plt.ylabel('Cumulative Explained Variance')\n",
        "plt.title('Cumulative Explained Variance')\n",
        "plt.show()"
      ],
      "metadata": {
        "colab": {
          "base_uri": "https://localhost:8080/",
          "height": 472
        },
        "id": "TXd9y3-wSlpt",
        "outputId": "d4a03ab9-d496-490e-a965-964bddf6ac52"
      },
      "execution_count": 15,
      "outputs": [
        {
          "output_type": "display_data",
          "data": {
            "text/plain": [
              "<Figure size 640x480 with 1 Axes>"
            ],
            "image/png": "[encoded data removed]"
          },
          "metadata": {}
        }
      ]
    },
    {
      "cell_type": "code",
      "source": [
        "#Q11.Train a KNN Classifier using different values of the weights parameter (uniform vs. distance) and compare accuracy.\n",
        "from sklearn.neighbors import KNeighborsClassifier\n",
        "from sklearn.model_selection import train_test_split\n",
        "from sklearn.metrics import accuracy_score\n",
        "\n",
        "# Load your data (replace with your actual data)\n",
        "# ...\n",
        "\n",
        "# Split data into training and testing sets\n",
        "X_train, X_test, y_train, y_test = train_test_split(X, y, test_size=0.2, random_state=42)\n",
        "\n",
        "# --- Train Uniform Weight Model ---\n",
        "knn_uniform = KNeighborsClassifier(n_neighbors=5, weights='uniform')\n",
        "knn_uniform.fit(X_train, y_train)\n",
        "y_pred_uniform = knn_uniform.predict(X_test)\n",
        "accuracy_uniform = accuracy_score(y_test, y_pred_uniform)\n",
        "print(f\"Accuracy (Uniform Weights): {accuracy_uniform}\")\n",
        "\n",
        "# --- Train Distance Weight Model ---\n",
        "knn_distance = KNeighborsClassifier(n_neighbors=5, weights='distance')\n",
        "knn_distance.fit(X_train, y_train)\n",
        "y_pred_distance = knn_distance.predict(X_test)\n",
        "accuracy_distance = accuracy_score(y_test, y_pred_distance)\n",
        "print(f\"Accuracy (Distance Weights): {accuracy_distance}\")\n",
        "\n",
        "# --- Compare results ---\n",
        "print(f\"Accuracy (Uniform) is greater than (Distance): {accuracy_uniform > accuracy_distance}\")"
      ],
      "metadata": {
        "colab": {
          "base_uri": "https://localhost:8080/",
          "height": 356
        },
        "id": "p5AIEKw2S1U2",
        "outputId": "2ad85c3c-8eeb-4d12-b27c-862acb3d9a63"
      },
      "execution_count": 16,
      "outputs": [
        {
          "output_type": "error",
          "ename": "ValueError",
          "evalue": "Found input variables with inconsistent numbers of samples: [569, 200]",
          "traceback": [
            "\u001b[0;31m---------------------------------------------------------------------------\u001b[0m",
            "\u001b[0;31mValueError\u001b[0m                                Traceback (most recent call last)",
            "\u001b[0;32m<ipython-input-16-343a154931e9>\u001b[0m in \u001b[0;36m<cell line: 0>\u001b[0;34m()\u001b[0m\n\u001b[1;32m      8\u001b[0m \u001b[0;34m\u001b[0m\u001b[0m\n\u001b[1;32m      9\u001b[0m \u001b[0;31m# Split data into training and testing sets\u001b[0m\u001b[0;34m\u001b[0m\u001b[0;34m\u001b[0m\u001b[0m\n\u001b[0;32m---> 10\u001b[0;31m \u001b[0mX_train\u001b[0m\u001b[0;34m,\u001b[0m \u001b[0mX_test\u001b[0m\u001b[0;34m,\u001b[0m \u001b[0my_train\u001b[0m\u001b[0;34m,\u001b[0m \u001b[0my_test\u001b[0m \u001b[0;34m=\u001b[0m \u001b[0mtrain_test_split\u001b[0m\u001b[0;34m(\u001b[0m\u001b[0mX\u001b[0m\u001b[0;34m,\u001b[0m \u001b[0my\u001b[0m\u001b[0;34m,\u001b[0m \u001b[0mtest_size\u001b[0m\u001b[0;34m=\u001b[0m\u001b[0;36m0.2\u001b[0m\u001b[0;34m,\u001b[0m \u001b[0mrandom_state\u001b[0m\u001b[0;34m=\u001b[0m\u001b[0;36m42\u001b[0m\u001b[0;34m)\u001b[0m\u001b[0;34m\u001b[0m\u001b[0;34m\u001b[0m\u001b[0m\n\u001b[0m\u001b[1;32m     11\u001b[0m \u001b[0;34m\u001b[0m\u001b[0m\n\u001b[1;32m     12\u001b[0m \u001b[0;31m# --- Train Uniform Weight Model ---\u001b[0m\u001b[0;34m\u001b[0m\u001b[0;34m\u001b[0m\u001b[0m\n",
            "\u001b[0;32m/usr/local/lib/python3.11/dist-packages/sklearn/utils/_param_validation.py\u001b[0m in \u001b[0;36mwrapper\u001b[0;34m(*args, **kwargs)\u001b[0m\n\u001b[1;32m    214\u001b[0m                     )\n\u001b[1;32m    215\u001b[0m                 ):\n\u001b[0;32m--> 216\u001b[0;31m                     \u001b[0;32mreturn\u001b[0m \u001b[0mfunc\u001b[0m\u001b[0;34m(\u001b[0m\u001b[0;34m*\u001b[0m\u001b[0margs\u001b[0m\u001b[0;34m,\u001b[0m \u001b[0;34m**\u001b[0m\u001b[0mkwargs\u001b[0m\u001b[0;34m)\u001b[0m\u001b[0;34m\u001b[0m\u001b[0;34m\u001b[0m\u001b[0m\n\u001b[0m\u001b[1;32m    217\u001b[0m             \u001b[0;32mexcept\u001b[0m \u001b[0mInvalidParameterError\u001b[0m \u001b[0;32mas\u001b[0m \u001b[0me\u001b[0m\u001b[0;34m:\u001b[0m\u001b[0;34m\u001b[0m\u001b[0;34m\u001b[0m\u001b[0m\n\u001b[1;32m    218\u001b[0m                 \u001b[0;31m# When the function is just a wrapper around an estimator, we allow\u001b[0m\u001b[0;34m\u001b[0m\u001b[0;34m\u001b[0m\u001b[0m\n",
            "\u001b[0;32m/usr/local/lib/python3.11/dist-packages/sklearn/model_selection/_split.py\u001b[0m in \u001b[0;36mtrain_test_split\u001b[0;34m(test_size, train_size, random_state, shuffle, stratify, *arrays)\u001b[0m\n\u001b[1;32m   2846\u001b[0m         \u001b[0;32mraise\u001b[0m \u001b[0mValueError\u001b[0m\u001b[0;34m(\u001b[0m\u001b[0;34m\"At least one array required as input\"\u001b[0m\u001b[0;34m)\u001b[0m\u001b[0;34m\u001b[0m\u001b[0;34m\u001b[0m\u001b[0m\n\u001b[1;32m   2847\u001b[0m \u001b[0;34m\u001b[0m\u001b[0m\n\u001b[0;32m-> 2848\u001b[0;31m     \u001b[0marrays\u001b[0m \u001b[0;34m=\u001b[0m \u001b[0mindexable\u001b[0m\u001b[0;34m(\u001b[0m\u001b[0;34m*\u001b[0m\u001b[0marrays\u001b[0m\u001b[0;34m)\u001b[0m\u001b[0;34m\u001b[0m\u001b[0;34m\u001b[0m\u001b[0m\n\u001b[0m\u001b[1;32m   2849\u001b[0m \u001b[0;34m\u001b[0m\u001b[0m\n\u001b[1;32m   2850\u001b[0m     \u001b[0mn_samples\u001b[0m \u001b[0;34m=\u001b[0m \u001b[0m_num_samples\u001b[0m\u001b[0;34m(\u001b[0m\u001b[0marrays\u001b[0m\u001b[0;34m[\u001b[0m\u001b[0;36m0\u001b[0m\u001b[0;34m]\u001b[0m\u001b[0;34m)\u001b[0m\u001b[0;34m\u001b[0m\u001b[0;34m\u001b[0m\u001b[0m\n",
            "\u001b[0;32m/usr/local/lib/python3.11/dist-packages/sklearn/utils/validation.py\u001b[0m in \u001b[0;36mindexable\u001b[0;34m(*iterables)\u001b[0m\n\u001b[1;32m    530\u001b[0m \u001b[0;34m\u001b[0m\u001b[0m\n\u001b[1;32m    531\u001b[0m     \u001b[0mresult\u001b[0m \u001b[0;34m=\u001b[0m \u001b[0;34m[\u001b[0m\u001b[0m_make_indexable\u001b[0m\u001b[0;34m(\u001b[0m\u001b[0mX\u001b[0m\u001b[0;34m)\u001b[0m \u001b[0;32mfor\u001b[0m \u001b[0mX\u001b[0m \u001b[0;32min\u001b[0m \u001b[0miterables\u001b[0m\u001b[0;34m]\u001b[0m\u001b[0;34m\u001b[0m\u001b[0;34m\u001b[0m\u001b[0m\n\u001b[0;32m--> 532\u001b[0;31m     \u001b[0mcheck_consistent_length\u001b[0m\u001b[0;34m(\u001b[0m\u001b[0;34m*\u001b[0m\u001b[0mresult\u001b[0m\u001b[0;34m)\u001b[0m\u001b[0;34m\u001b[0m\u001b[0;34m\u001b[0m\u001b[0m\n\u001b[0m\u001b[1;32m    533\u001b[0m     \u001b[0;32mreturn\u001b[0m \u001b[0mresult\u001b[0m\u001b[0;34m\u001b[0m\u001b[0;34m\u001b[0m\u001b[0m\n\u001b[1;32m    534\u001b[0m \u001b[0;34m\u001b[0m\u001b[0m\n",
            "\u001b[0;32m/usr/local/lib/python3.11/dist-packages/sklearn/utils/validation.py\u001b[0m in \u001b[0;36mcheck_consistent_length\u001b[0;34m(*arrays)\u001b[0m\n\u001b[1;32m    473\u001b[0m     \u001b[0muniques\u001b[0m \u001b[0;34m=\u001b[0m \u001b[0mnp\u001b[0m\u001b[0;34m.\u001b[0m\u001b[0munique\u001b[0m\u001b[0;34m(\u001b[0m\u001b[0mlengths\u001b[0m\u001b[0;34m)\u001b[0m\u001b[0;34m\u001b[0m\u001b[0;34m\u001b[0m\u001b[0m\n\u001b[1;32m    474\u001b[0m     \u001b[0;32mif\u001b[0m \u001b[0mlen\u001b[0m\u001b[0;34m(\u001b[0m\u001b[0muniques\u001b[0m\u001b[0;34m)\u001b[0m \u001b[0;34m>\u001b[0m \u001b[0;36m1\u001b[0m\u001b[0;34m:\u001b[0m\u001b[0;34m\u001b[0m\u001b[0;34m\u001b[0m\u001b[0m\n\u001b[0;32m--> 475\u001b[0;31m         raise ValueError(\n\u001b[0m\u001b[1;32m    476\u001b[0m             \u001b[0;34m\"Found input variables with inconsistent numbers of samples: %r\"\u001b[0m\u001b[0;34m\u001b[0m\u001b[0;34m\u001b[0m\u001b[0m\n\u001b[1;32m    477\u001b[0m             \u001b[0;34m%\u001b[0m \u001b[0;34m[\u001b[0m\u001b[0mint\u001b[0m\u001b[0;34m(\u001b[0m\u001b[0ml\u001b[0m\u001b[0;34m)\u001b[0m \u001b[0;32mfor\u001b[0m \u001b[0ml\u001b[0m \u001b[0;32min\u001b[0m \u001b[0mlengths\u001b[0m\u001b[0;34m]\u001b[0m\u001b[0;34m\u001b[0m\u001b[0;34m\u001b[0m\u001b[0m\n",
            "\u001b[0;31mValueError\u001b[0m: Found input variables with inconsistent numbers of samples: [569, 200]"
          ]
        }
      ]
    },
    {
      "cell_type": "code",
      "source": [
        "#Q12.Train a KNN Regressor and analyze the effect of different K values on performance.\n",
        "import numpy as np\n",
        "from collections import Counter\n",
        "def euclidean_distance(point1, point2):\n",
        "    return np.sqrt(np.sum((np.array(point1) - np.array(point2))**2))\n",
        "def knn_predict(training_data, training_labels, test_point, k):\n",
        "    distances = []\n",
        "    for i in range(len(training_data)):\n",
        "        dist = euclidean_distance(test_point, training_data[i])\n",
        "        distances.append((dist, training_labels[i]))\n",
        "    distances.sort(key=lambda x: x[0])\n",
        "    k_nearest_labels = [label for _, label in distances[:k]]\n",
        "    return Counter(k_nearest_labels).most_common(1)[0][0]\n",
        "training_data = [[1, 2], [2, 3], [3, 4], [6, 7], [7, 8]]\n",
        "training_labels = ['A', 'A', 'A', 'B', 'B']\n",
        "test_point = [4, 5]\n",
        "k = 3\n",
        "prediction = knn_predict(training_data, training_labels, test_point, k)\n",
        "print(prediction)\n"
      ],
      "metadata": {
        "colab": {
          "base_uri": "https://localhost:8080/"
        },
        "id": "G0qrRw46S8mG",
        "outputId": "888686ad-c593-4c6a-face-608734d5a1d3"
      },
      "execution_count": 17,
      "outputs": [
        {
          "output_type": "stream",
          "name": "stdout",
          "text": [
            "A\n"
          ]
        }
      ]
    },
    {
      "cell_type": "code",
      "source": [
        "#Q13.Implement KNN Imputation for handling missing values in a dataset.\n",
        "from sklearn.impute import KNNImputer\n",
        "import pandas as pd\n",
        "\n",
        "# Sample dataset\n",
        "data = {'Age': [25, None, 30, 32],\n",
        "        'Pclass': [1, 2, 1, 3],\n",
        "        'Fare': [50, 60, None, 40],\n",
        "        'Survived': [0, 1, 1, 0]}\n",
        "\n",
        "df = pd.DataFrame(data)\n",
        "\n",
        "# Create KNNImputer instance with 2 nearest neighbors\n",
        "imputer = KNNImputer(n_neighbors=2)\n",
        "\n",
        "# Fit and transform the dataset\n",
        "df_imputed = pd.DataFrame(imputer.fit_transform(df), columns=df.columns)\n",
        "\n",
        "print(\"Imputed Data:\")\n",
        "print(df_imputed)"
      ],
      "metadata": {
        "colab": {
          "base_uri": "https://localhost:8080/"
        },
        "id": "UalLx5d6TUIJ",
        "outputId": "73fc6d4a-2ef3-4135-ba68-cd0349ae205a"
      },
      "execution_count": 18,
      "outputs": [
        {
          "output_type": "stream",
          "name": "stdout",
          "text": [
            "Imputed Data:\n",
            "    Age  Pclass  Fare  Survived\n",
            "0  25.0     1.0  50.0       0.0\n",
            "1  27.5     2.0  60.0       1.0\n",
            "2  30.0     1.0  50.0       1.0\n",
            "3  32.0     3.0  40.0       0.0\n"
          ]
        }
      ]
    },
    {
      "cell_type": "code",
      "source": [
        "#Q14.Train a PCA model and visualize the data projection onto the first two principal components.\n",
        "import pandas as pd\n",
        "import numpy as np\n",
        "import matplotlib.pyplot as plt\n",
        "from sklearn.decomposition import PCA\n",
        "from sklearn.preprocessing import StandardScaler  # Optional: for data scaling\n",
        "\n",
        "# 1. Prepare the data\n",
        "# Replace 'your_data.csv' with the path to your CSV file\n",
        "# We will use this variable instead of trying to load a file.\n",
        "# data = pd.read_csv('your_data.csv') # Removed this line\n",
        "\n",
        "# Optional: Scale the data\n",
        "scaler = StandardScaler()\n",
        "scaled_data = scaler.fit_transform(data)\n",
        "\n",
        "# 2. Train the PCA model\n",
        "pca = PCA(n_components=2)\n",
        "pca.fit(scaled_data)\n",
        "\n",
        "# Transform the data\n",
        "projected_data = pca.transform(scaled_data)\n",
        "\n",
        "# 3. Visualize the projection\n",
        "plt.figure(figsize=(8, 6))\n",
        "plt.scatter(projected_data[:, 0], projected_data[:, 1])\n",
        "plt.xlabel('Principal Component 1')\n",
        "plt.ylabel('Principal Component 2')\n",
        "plt.title('PCA Projection onto the First Two Principal Components')\n",
        "plt.show()"
      ],
      "metadata": {
        "colab": {
          "base_uri": "https://localhost:8080/",
          "height": 564
        },
        "id": "8xosOEd2Thcr",
        "outputId": "2ead0f20-7ae4-4794-977f-12012862dab9"
      },
      "execution_count": 23,
      "outputs": [
        {
          "output_type": "display_data",
          "data": {
            "text/plain": [
              "<Figure size 800x600 with 1 Axes>"
            ],
            "image/png": "[encoded data removed]"
          },
          "metadata": {}
        }
      ]
    },
    {
      "cell_type": "code",
      "source": [
        "#Q15.Train a KNN Classifier using the KD Tree and Ball Tree algorithms and compare performance.\n",
        "from sklearn.neighbors import KDTree\n",
        "import numpy as np\n",
        "\n",
        "# Sample data\n",
        "data = np.array([[2, 3], [5, 4], [9, 6], [4, 7], [8, 1], [7, 2]])\n",
        "\n",
        "# Build KD tree\n",
        "kdtree = KDTree(data, leaf_size=30)\n",
        "\n",
        "# Query the KD tree for nearest neighbors\n",
        "query_point = np.array([[9, 2]])\n",
        "distances, indices = kdtree.query(query_point, k=2)\n",
        "#Q15.Train a KNN Classifier using the KD Tree and Ball Tree algorithms and compare performance.\n",
        "from sklearn.neighbors import KDTree\n",
        "import numpy as np\n",
        "\n",
        "# Sample data\n",
        "data = np.array([[2, 3], [5, 4], [9, 6], [4, 7], [8, 1], [7, 2]])\n",
        "\n",
        "# Build KD tree\n",
        "kdtree = KDTree(data, leaf_size=30)\n",
        "\n",
        "# Query the KD tree for nearest neighbors\n",
        "query_point = np.array([[9, 2]])\n",
        "distances, indices = kdtree.query(query_point, k=2)\n",
        "\n",
        "# Print results\n",
        "print(\"Query Point:\", query_point)\n",
        "print(\"Nearest Neighbors:\")\n",
        "#Q15.Train a KNN Classifier using the KD Tree and Ball Tree algorithms and compare performance.\n",
        "from sklearn.neighbors import KDTree\n",
        "import numpy as np\n",
        "\n",
        "# Sample data\n",
        "data = np.array([[2, 3], [5, 4], [9, 6], [4, 7], [8, 1], [7, 2]])\n",
        "\n",
        "# Build KD tree\n",
        "kdtree = KDTree(data, leaf_size=30)\n",
        "\n",
        "# Query the KD tree for nearest neighbors\n",
        "query_point = np.array([[9, 2]])\n",
        "distances, indices = kdtree.query(query_point, k=2)\n",
        "#Q15.Train a KNN Classifier using the KD Tree and Ball Tree algorithms and compare performance.\n",
        "from sklearn.neighbors import KDTree\n",
        "import numpy as np\n",
        "\n",
        "# Sample data\n",
        "data = np.array([[2, 3], [5, 4], [9, 6], [4, 7], [8, 1], [7, 2]])\n",
        "\n",
        "# Build KD tree\n",
        "kdtree = KDTree(data, leaf_size=30)\n",
        "\n",
        "# Query the KD tree for nearest neighbors\n",
        "query_point = np.array([[9, 2]])\n",
        "distances, indices = kdtree.query(query_point, k=2)\n",
        "\n",
        "# Print results\n",
        "print(\"Query Point:\", query_point)\n",
        "print(\"Nearest Neighbors:\")\n",
        "for i, idx in enumerate(indices[0]):\n",
        "    print(f\"Neighbor {i + 1}: {data[idx]}, Distance: {distances[0][i]}\")\n",
        "    print(f\"Neighbor {i + 1}: {data[idx]}, Distance: {distances[0][i]}\")"
      ],
      "metadata": {
        "colab": {
          "base_uri": "https://localhost:8080/"
        },
        "id": "TRdH8LZ_TsnY",
        "outputId": "d463899f-90f3-4c92-9802-58287eabd771"
      },
      "execution_count": 22,
      "outputs": [
        {
          "output_type": "stream",
          "name": "stdout",
          "text": [
            "Query Point: [[9 2]]\n",
            "Nearest Neighbors:\n",
            "Query Point: [[9 2]]\n",
            "Nearest Neighbors:\n",
            "Neighbor 1: [8 1], Distance: 1.4142135623730951\n",
            "Neighbor 1: [8 1], Distance: 1.4142135623730951\n",
            "Neighbor 2: [7 2], Distance: 2.0\n",
            "Neighbor 2: [7 2], Distance: 2.0\n"
          ]
        }
      ]
    }
  ]
}